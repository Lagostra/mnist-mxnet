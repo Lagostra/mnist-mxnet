{
 "cells": [
  {
   "cell_type": "code",
   "execution_count": 1,
   "metadata": {},
   "outputs": [],
   "source": [
    "import mxnet as mx\n",
    "mnist = mx.test_utils.get_mnist()"
   ]
  },
  {
   "cell_type": "code",
   "execution_count": 6,
   "metadata": {},
   "outputs": [],
   "source": [
    "batch_size = 100\n",
    "train_iter = mx.io.NDArrayIter(mnist['train_data'], mnist['train_label'], batch_size, shuffle=True)\n",
    "val_iter = mx.io.NDArrayIter(mnist['test_data'], mnist['test_label'], batch_size)"
   ]
  },
  {
   "cell_type": "markdown",
   "metadata": {},
   "source": [
    "# Multilayer Perceptron model"
   ]
  },
  {
   "cell_type": "code",
   "execution_count": 4,
   "metadata": {},
   "outputs": [],
   "source": [
    "data = mx.sym.var('data')\n",
    "data = mx.sym.flatten(data=data)\n",
    "\n",
    "fc1 = mx.sym.FullyConnected(data=data, num_hidden=128)\n",
    "act1 = mx.sym.Activation(data=fc1, act_type=\"relu\")\n",
    "\n",
    "fc2 = mx.sym.FullyConnected(data=act1, num_hidden=64)\n",
    "act2 = mx.sym.Activation(data=fc2, act_type=\"relu\")\n",
    "\n",
    "fc3 = mx.sym.FullyConnected(data=act2, num_hidden=10)\n",
    "mlp = mx.sym.SoftmaxOutput(data=fc3, name='softmax')"
   ]
  },
  {
   "cell_type": "code",
   "execution_count": 7,
   "metadata": {},
   "outputs": [
    {
     "name": "stderr",
     "output_type": "stream",
     "text": [
      "INFO:root:Epoch[0] Batch [0-100]\tSpeed: 95363.67 samples/sec\taccuracy=0.112178\n",
      "INFO:root:Epoch[0] Batch [100-200]\tSpeed: 88627.47 samples/sec\taccuracy=0.112700\n",
      "INFO:root:Epoch[0] Batch [200-300]\tSpeed: 101820.55 samples/sec\taccuracy=0.113800\n",
      "INFO:root:Epoch[0] Batch [300-400]\tSpeed: 103050.10 samples/sec\taccuracy=0.109900\n",
      "INFO:root:Epoch[0] Batch [400-500]\tSpeed: 103037.19 samples/sec\taccuracy=0.126100\n",
      "INFO:root:Epoch[0] Train-accuracy=0.134700\n",
      "INFO:root:Epoch[0] Time cost=0.637\n",
      "INFO:root:Epoch[0] Validation-accuracy=0.339300\n",
      "INFO:root:Epoch[1] Batch [0-100]\tSpeed: 87347.67 samples/sec\taccuracy=0.471584\n",
      "INFO:root:Epoch[1] Batch [100-200]\tSpeed: 103002.52 samples/sec\taccuracy=0.674100\n",
      "INFO:root:Epoch[1] Batch [200-300]\tSpeed: 92681.36 samples/sec\taccuracy=0.768500\n",
      "INFO:root:Epoch[1] Batch [300-400]\tSpeed: 98520.05 samples/sec\taccuracy=0.798900\n",
      "INFO:root:Epoch[1] Batch [400-500]\tSpeed: 93285.53 samples/sec\taccuracy=0.819900\n",
      "INFO:root:Epoch[1] Train-accuracy=0.728700\n",
      "INFO:root:Epoch[1] Time cost=0.641\n",
      "INFO:root:Epoch[1] Validation-accuracy=0.862800\n",
      "INFO:root:Epoch[2] Batch [0-100]\tSpeed: 95873.31 samples/sec\taccuracy=0.857822\n",
      "INFO:root:Epoch[2] Batch [100-200]\tSpeed: 86069.14 samples/sec\taccuracy=0.868000\n",
      "INFO:root:Epoch[2] Batch [200-300]\tSpeed: 96870.84 samples/sec\taccuracy=0.880600\n",
      "INFO:root:Epoch[2] Batch [300-400]\tSpeed: 90340.94 samples/sec\taccuracy=0.894000\n",
      "INFO:root:Epoch[2] Batch [400-500]\tSpeed: 95766.49 samples/sec\taccuracy=0.905200\n",
      "INFO:root:Epoch[2] Train-accuracy=0.886750\n",
      "INFO:root:Epoch[2] Time cost=0.655\n",
      "INFO:root:Epoch[2] Validation-accuracy=0.913000\n",
      "INFO:root:Epoch[3] Batch [0-100]\tSpeed: 101931.90 samples/sec\taccuracy=0.920198\n",
      "INFO:root:Epoch[3] Batch [100-200]\tSpeed: 98406.56 samples/sec\taccuracy=0.920900\n",
      "INFO:root:Epoch[3] Batch [200-300]\tSpeed: 91184.29 samples/sec\taccuracy=0.931700\n",
      "INFO:root:Epoch[3] Batch [300-400]\tSpeed: 90182.05 samples/sec\taccuracy=0.929000\n",
      "INFO:root:Epoch[3] Batch [400-500]\tSpeed: 93715.32 samples/sec\taccuracy=0.937300\n",
      "INFO:root:Epoch[3] Train-accuracy=0.929267\n",
      "INFO:root:Epoch[3] Time cost=0.643\n",
      "INFO:root:Epoch[3] Validation-accuracy=0.932100\n",
      "INFO:root:Epoch[4] Batch [0-100]\tSpeed: 104525.47 samples/sec\taccuracy=0.944158\n",
      "INFO:root:Epoch[4] Batch [100-200]\tSpeed: 96219.05 samples/sec\taccuracy=0.943600\n",
      "INFO:root:Epoch[4] Batch [200-300]\tSpeed: 100689.07 samples/sec\taccuracy=0.943800\n",
      "INFO:root:Epoch[4] Batch [300-400]\tSpeed: 94449.71 samples/sec\taccuracy=0.947600\n",
      "INFO:root:Epoch[4] Batch [400-500]\tSpeed: 86931.28 samples/sec\taccuracy=0.953000\n",
      "INFO:root:Epoch[4] Train-accuracy=0.947250\n",
      "INFO:root:Epoch[4] Time cost=0.644\n",
      "INFO:root:Epoch[4] Validation-accuracy=0.949400\n",
      "INFO:root:Epoch[5] Batch [0-100]\tSpeed: 87013.70 samples/sec\taccuracy=0.951584\n",
      "INFO:root:Epoch[5] Batch [100-200]\tSpeed: 97231.94 samples/sec\taccuracy=0.958100\n",
      "INFO:root:Epoch[5] Batch [200-300]\tSpeed: 91573.69 samples/sec\taccuracy=0.955000\n",
      "INFO:root:Epoch[5] Batch [300-400]\tSpeed: 85010.60 samples/sec\taccuracy=0.958500\n",
      "INFO:root:Epoch[5] Batch [400-500]\tSpeed: 88129.52 samples/sec\taccuracy=0.956400\n",
      "INFO:root:Epoch[5] Train-accuracy=0.956117\n",
      "INFO:root:Epoch[5] Time cost=0.684\n",
      "INFO:root:Epoch[5] Validation-accuracy=0.960500\n",
      "INFO:root:Epoch[6] Batch [0-100]\tSpeed: 101384.91 samples/sec\taccuracy=0.960495\n",
      "INFO:root:Epoch[6] Batch [100-200]\tSpeed: 86528.13 samples/sec\taccuracy=0.960700\n",
      "INFO:root:Epoch[6] Batch [200-300]\tSpeed: 92207.63 samples/sec\taccuracy=0.967000\n",
      "INFO:root:Epoch[6] Batch [300-400]\tSpeed: 98809.24 samples/sec\taccuracy=0.962100\n",
      "INFO:root:Epoch[6] Batch [400-500]\tSpeed: 87292.59 samples/sec\taccuracy=0.967000\n",
      "INFO:root:Epoch[6] Train-accuracy=0.964150\n",
      "INFO:root:Epoch[6] Time cost=0.661\n",
      "INFO:root:Epoch[6] Validation-accuracy=0.963100\n",
      "INFO:root:Epoch[7] Batch [0-100]\tSpeed: 84838.65 samples/sec\taccuracy=0.970297\n",
      "INFO:root:Epoch[7] Batch [100-200]\tSpeed: 85616.56 samples/sec\taccuracy=0.965600\n",
      "INFO:root:Epoch[7] Batch [200-300]\tSpeed: 89643.14 samples/sec\taccuracy=0.970200\n",
      "INFO:root:Epoch[7] Batch [300-400]\tSpeed: 88730.59 samples/sec\taccuracy=0.971000\n",
      "INFO:root:Epoch[7] Batch [400-500]\tSpeed: 87846.00 samples/sec\taccuracy=0.965500\n",
      "INFO:root:Epoch[7] Train-accuracy=0.968567\n",
      "INFO:root:Epoch[7] Time cost=0.684\n",
      "INFO:root:Epoch[7] Validation-accuracy=0.965500\n",
      "INFO:root:Epoch[8] Batch [0-100]\tSpeed: 97539.69 samples/sec\taccuracy=0.974950\n",
      "INFO:root:Epoch[8] Batch [100-200]\tSpeed: 87647.01 samples/sec\taccuracy=0.972100\n",
      "INFO:root:Epoch[8] Batch [200-300]\tSpeed: 88339.82 samples/sec\taccuracy=0.973500\n",
      "INFO:root:Epoch[8] Batch [300-400]\tSpeed: 91346.73 samples/sec\taccuracy=0.973100\n",
      "INFO:root:Epoch[8] Batch [400-500]\tSpeed: 90951.96 samples/sec\taccuracy=0.971600\n",
      "INFO:root:Epoch[8] Train-accuracy=0.973000\n",
      "INFO:root:Epoch[8] Time cost=0.668\n",
      "INFO:root:Epoch[8] Validation-accuracy=0.970400\n",
      "INFO:root:Epoch[9] Batch [0-100]\tSpeed: 91104.27 samples/sec\taccuracy=0.978416\n",
      "INFO:root:Epoch[9] Batch [100-200]\tSpeed: 86320.49 samples/sec\taccuracy=0.971100\n",
      "INFO:root:Epoch[9] Batch [200-300]\tSpeed: 83927.71 samples/sec\taccuracy=0.978000\n",
      "INFO:root:Epoch[9] Batch [300-400]\tSpeed: 98221.51 samples/sec\taccuracy=0.975000\n",
      "INFO:root:Epoch[9] Batch [400-500]\tSpeed: 95627.40 samples/sec\taccuracy=0.976600\n",
      "INFO:root:Epoch[9] Train-accuracy=0.976200\n",
      "INFO:root:Epoch[9] Time cost=0.662\n",
      "INFO:root:Epoch[9] Validation-accuracy=0.971400\n"
     ]
    }
   ],
   "source": [
    "import logging\n",
    "logging.getLogger().setLevel(logging.DEBUG)\n",
    "\n",
    "mlp_model = mx.mod.Module(symbol=mlp, context=mx.cpu())\n",
    "\n",
    "mlp_model.fit(train_iter,\n",
    "              eval_data=val_iter,\n",
    "              optimizer='sgd',\n",
    "              optimizer_params={'learning_rate': 0.1},\n",
    "              eval_metric='acc',\n",
    "              batch_end_callback=mx.callback.Speedometer(batch_size, 100),\n",
    "              num_epoch=10)"
   ]
  },
  {
   "cell_type": "markdown",
   "metadata": {},
   "source": [
    "Generate predictions for entire test set:"
   ]
  },
  {
   "cell_type": "code",
   "execution_count": 11,
   "metadata": {},
   "outputs": [],
   "source": [
    "test_iter = mx.io.NDArrayIter(mnist['test_data'], None, batch_size)\n",
    "prob = mlp_model.predict(test_iter)\n",
    "assert prob.shape == (10000, 10)"
   ]
  },
  {
   "cell_type": "markdown",
   "metadata": {},
   "source": [
    "Calculate accuracy over test set:"
   ]
  },
  {
   "cell_type": "code",
   "execution_count": 12,
   "metadata": {},
   "outputs": [
    {
     "name": "stdout",
     "output_type": "stream",
     "text": [
      "EvalMetric: {'accuracy': 0.9714}\n"
     ]
    }
   ],
   "source": [
    "test_iter = mx.io.NDArrayIter(mnist['test_data'], mnist['test_label'], batch_size)\n",
    "acc = mx.metric.Accuracy()\n",
    "mlp_model.score(test_iter, acc)\n",
    "print(acc)\n",
    "assert acc.get()[1] > 0.96"
   ]
  },
  {
   "cell_type": "markdown",
   "metadata": {},
   "source": [
    "# Convolutional Model"
   ]
  },
  {
   "cell_type": "code",
   "execution_count": 13,
   "metadata": {},
   "outputs": [],
   "source": [
    "data = mx.sym.var('data')\n",
    "\n",
    "conv1 = mx.sym.Convolution(data=data, kernel=(5, 5), num_filter=20)\n",
    "tanh1 = mx.sym.Activation(data=conv1, act_type='tanh')\n",
    "pool1 = mx.sym.Pooling(data=tanh1, pool_type='max', kernel=(2, 2), stride=(2, 2))\n",
    "\n",
    "conv2 = mx.sym.Convolution(data=pool1, kernel=(5, 5), num_filter=50)\n",
    "tanh2 = mx.sym.Activation(data=conv2, act_type='tanh')\n",
    "pool2 = mx.sym.Pooling(data=tanh2, pool_type='max', kernel=(2, 2), stride=(2, 2))\n",
    "\n",
    "flatten = mx.sym.flatten(data=pool2)\n",
    "\n",
    "fc1 = mx.symbol.FullyConnected(data=flatten, num_hidden=500)\n",
    "tanh3 = mx.sym.Activation(data=fc1, act_type='tanh')\n",
    "\n",
    "fc2 = mx.sym.FullyConnected(data=tanh3, num_hidden=10)\n",
    "\n",
    "lenet = mx.sym.SoftmaxOutput(data=fc2, name='softmax')"
   ]
  },
  {
   "cell_type": "code",
   "execution_count": 16,
   "metadata": {},
   "outputs": [
    {
     "name": "stderr",
     "output_type": "stream",
     "text": [
      "INFO:root:Epoch[0] Batch [0-100]\tSpeed: 2362.37 samples/sec\taccuracy=0.120495\n",
      "INFO:root:Epoch[0] Batch [100-200]\tSpeed: 2388.20 samples/sec\taccuracy=0.108100\n",
      "INFO:root:Epoch[0] Batch [200-300]\tSpeed: 2389.51 samples/sec\taccuracy=0.111000\n",
      "INFO:root:Epoch[0] Batch [300-400]\tSpeed: 2258.56 samples/sec\taccuracy=0.107300\n",
      "INFO:root:Epoch[0] Batch [400-500]\tSpeed: 2236.45 samples/sec\taccuracy=0.113100\n",
      "INFO:root:Epoch[0] Train-accuracy=0.112267\n",
      "INFO:root:Epoch[0] Time cost=25.820\n",
      "INFO:root:Epoch[0] Validation-accuracy=0.113500\n",
      "INFO:root:Epoch[1] Batch [0-100]\tSpeed: 2356.28 samples/sec\taccuracy=0.120495\n",
      "INFO:root:Epoch[1] Batch [100-200]\tSpeed: 2296.11 samples/sec\taccuracy=0.508500\n",
      "INFO:root:Epoch[1] Batch [200-300]\tSpeed: 2270.93 samples/sec\taccuracy=0.847100\n",
      "INFO:root:Epoch[1] Batch [300-400]\tSpeed: 2293.47 samples/sec\taccuracy=0.893000\n",
      "INFO:root:Epoch[1] Batch [400-500]\tSpeed: 2306.17 samples/sec\taccuracy=0.917800\n",
      "INFO:root:Epoch[1] Train-accuracy=0.702500\n",
      "INFO:root:Epoch[1] Time cost=26.078\n",
      "INFO:root:Epoch[1] Validation-accuracy=0.943100\n",
      "INFO:root:Epoch[2] Batch [0-100]\tSpeed: 2275.81 samples/sec\taccuracy=0.947525\n",
      "INFO:root:Epoch[2] Batch [100-200]\tSpeed: 2290.02 samples/sec\taccuracy=0.952500\n",
      "INFO:root:Epoch[2] Batch [200-300]\tSpeed: 2284.79 samples/sec\taccuracy=0.959500\n",
      "INFO:root:Epoch[2] Batch [300-400]\tSpeed: 2303.54 samples/sec\taccuracy=0.964600\n",
      "INFO:root:Epoch[2] Batch [400-500]\tSpeed: 2252.63 samples/sec\taccuracy=0.965000\n",
      "INFO:root:Epoch[2] Train-accuracy=0.959517\n",
      "INFO:root:Epoch[2] Time cost=26.320\n",
      "INFO:root:Epoch[2] Validation-accuracy=0.973000\n",
      "INFO:root:Epoch[3] Batch [0-100]\tSpeed: 2257.63 samples/sec\taccuracy=0.973366\n",
      "INFO:root:Epoch[3] Batch [100-200]\tSpeed: 2258.22 samples/sec\taccuracy=0.970900\n",
      "INFO:root:Epoch[3] Batch [200-300]\tSpeed: 2281.04 samples/sec\taccuracy=0.972600\n",
      "INFO:root:Epoch[3] Batch [300-400]\tSpeed: 2288.29 samples/sec\taccuracy=0.976200\n",
      "INFO:root:Epoch[3] Batch [400-500]\tSpeed: 2315.01 samples/sec\taccuracy=0.976200\n",
      "INFO:root:Epoch[3] Train-accuracy=0.974783\n",
      "INFO:root:Epoch[3] Time cost=26.287\n",
      "INFO:root:Epoch[3] Validation-accuracy=0.981400\n",
      "INFO:root:Epoch[4] Batch [0-100]\tSpeed: 2316.54 samples/sec\taccuracy=0.980297\n",
      "INFO:root:Epoch[4] Batch [100-200]\tSpeed: 2304.75 samples/sec\taccuracy=0.979800\n",
      "INFO:root:Epoch[4] Batch [200-300]\tSpeed: 2155.51 samples/sec\taccuracy=0.981500\n",
      "INFO:root:Epoch[4] Batch [300-400]\tSpeed: 2040.52 samples/sec\taccuracy=0.979000\n",
      "INFO:root:Epoch[4] Batch [400-500]\tSpeed: 1913.81 samples/sec\taccuracy=0.981000\n",
      "INFO:root:Epoch[4] Train-accuracy=0.980683\n",
      "INFO:root:Epoch[4] Time cost=27.926\n",
      "INFO:root:Epoch[4] Validation-accuracy=0.983500\n",
      "INFO:root:Epoch[5] Batch [0-100]\tSpeed: 2209.35 samples/sec\taccuracy=0.985545\n",
      "INFO:root:Epoch[5] Batch [100-200]\tSpeed: 2158.78 samples/sec\taccuracy=0.985700\n",
      "INFO:root:Epoch[5] Batch [200-300]\tSpeed: 2035.84 samples/sec\taccuracy=0.982100\n",
      "INFO:root:Epoch[5] Batch [300-400]\tSpeed: 1819.21 samples/sec\taccuracy=0.984300\n",
      "INFO:root:Epoch[5] Batch [400-500]\tSpeed: 2003.92 samples/sec\taccuracy=0.985100\n",
      "INFO:root:Epoch[5] Train-accuracy=0.984467\n",
      "INFO:root:Epoch[5] Time cost=29.214\n",
      "INFO:root:Epoch[5] Validation-accuracy=0.983700\n",
      "INFO:root:Epoch[6] Batch [0-100]\tSpeed: 1986.42 samples/sec\taccuracy=0.986931\n",
      "INFO:root:Epoch[6] Batch [100-200]\tSpeed: 2204.91 samples/sec\taccuracy=0.986200\n",
      "INFO:root:Epoch[6] Batch [200-300]\tSpeed: 2296.25 samples/sec\taccuracy=0.987000\n",
      "INFO:root:Epoch[6] Batch [300-400]\tSpeed: 2321.43 samples/sec\taccuracy=0.988500\n",
      "INFO:root:Epoch[6] Batch [400-500]\tSpeed: 2296.59 samples/sec\taccuracy=0.987800\n",
      "INFO:root:Epoch[6] Train-accuracy=0.987167\n",
      "INFO:root:Epoch[6] Time cost=26.960\n",
      "INFO:root:Epoch[6] Validation-accuracy=0.986500\n",
      "INFO:root:Epoch[7] Batch [0-100]\tSpeed: 2309.81 samples/sec\taccuracy=0.989604\n",
      "INFO:root:Epoch[7] Batch [100-200]\tSpeed: 2272.82 samples/sec\taccuracy=0.987700\n",
      "INFO:root:Epoch[7] Batch [200-300]\tSpeed: 2252.95 samples/sec\taccuracy=0.986500\n",
      "INFO:root:Epoch[7] Batch [300-400]\tSpeed: 2206.63 samples/sec\taccuracy=0.989800\n",
      "INFO:root:Epoch[7] Batch [400-500]\tSpeed: 2147.42 samples/sec\taccuracy=0.988700\n",
      "INFO:root:Epoch[7] Train-accuracy=0.988750\n",
      "INFO:root:Epoch[7] Time cost=26.728\n",
      "INFO:root:Epoch[7] Validation-accuracy=0.986900\n",
      "INFO:root:Epoch[8] Batch [0-100]\tSpeed: 2293.92 samples/sec\taccuracy=0.990594\n",
      "INFO:root:Epoch[8] Batch [100-200]\tSpeed: 2325.02 samples/sec\taccuracy=0.990700\n",
      "INFO:root:Epoch[8] Batch [200-300]\tSpeed: 2331.84 samples/sec\taccuracy=0.990000\n",
      "INFO:root:Epoch[8] Batch [300-400]\tSpeed: 2282.11 samples/sec\taccuracy=0.990500\n",
      "INFO:root:Epoch[8] Batch [400-500]\tSpeed: 2255.36 samples/sec\taccuracy=0.990800\n",
      "INFO:root:Epoch[8] Train-accuracy=0.990050\n",
      "INFO:root:Epoch[8] Time cost=26.143\n",
      "INFO:root:Epoch[8] Validation-accuracy=0.987000\n",
      "INFO:root:Epoch[9] Batch [0-100]\tSpeed: 2246.36 samples/sec\taccuracy=0.990594\n",
      "INFO:root:Epoch[9] Batch [100-200]\tSpeed: 2209.26 samples/sec\taccuracy=0.991400\n",
      "INFO:root:Epoch[9] Batch [200-300]\tSpeed: 2221.43 samples/sec\taccuracy=0.990800\n",
      "INFO:root:Epoch[9] Batch [300-400]\tSpeed: 2300.83 samples/sec\taccuracy=0.992500\n",
      "INFO:root:Epoch[9] Batch [400-500]\tSpeed: 2316.76 samples/sec\taccuracy=0.989000\n",
      "INFO:root:Epoch[9] Train-accuracy=0.990950\n",
      "INFO:root:Epoch[9] Time cost=26.933\n",
      "INFO:root:Epoch[9] Validation-accuracy=0.989400\n"
     ]
    }
   ],
   "source": [
    "lenet_model = mx.mod.Module(symbol=lenet, context=mx.cpu())\n",
    "\n",
    "lenet_model.fit(train_iter,\n",
    "                eval_data=val_iter,\n",
    "                optimizer='sgd',\n",
    "                optimizer_params={'learning_rate': 0.1},\n",
    "                eval_metric='acc',\n",
    "                batch_end_callback = mx.callback.Speedometer(batch_size, 100),\n",
    "                num_epoch=10)"
   ]
  },
  {
   "cell_type": "code",
   "execution_count": 17,
   "metadata": {},
   "outputs": [
    {
     "ename": "KeyError",
     "evalue": "('test_data', None, 100)",
     "output_type": "error",
     "traceback": [
      "\u001b[0;31m---------------------------------------------------------------------------\u001b[0m",
      "\u001b[0;31mKeyError\u001b[0m                                  Traceback (most recent call last)",
      "\u001b[0;32m<ipython-input-17-d224f647f090>\u001b[0m in \u001b[0;36m<module>\u001b[0;34m\u001b[0m\n\u001b[0;32m----> 1\u001b[0;31m \u001b[0mtest_iter\u001b[0m \u001b[0;34m=\u001b[0m \u001b[0mmx\u001b[0m\u001b[0;34m.\u001b[0m\u001b[0mio\u001b[0m\u001b[0;34m.\u001b[0m\u001b[0mNDArrayIter\u001b[0m\u001b[0;34m(\u001b[0m\u001b[0mmnist\u001b[0m\u001b[0;34m[\u001b[0m\u001b[0;34m'test_data'\u001b[0m\u001b[0;34m,\u001b[0m \u001b[0;32mNone\u001b[0m\u001b[0;34m,\u001b[0m \u001b[0mbatch_size\u001b[0m\u001b[0;34m]\u001b[0m\u001b[0;34m)\u001b[0m\u001b[0;34m\u001b[0m\u001b[0;34m\u001b[0m\u001b[0m\n\u001b[0m\u001b[1;32m      2\u001b[0m \u001b[0mprob\u001b[0m \u001b[0;34m=\u001b[0m \u001b[0mlenet_model\u001b[0m\u001b[0;34m.\u001b[0m\u001b[0mpredict\u001b[0m\u001b[0;34m(\u001b[0m\u001b[0mtest_iter\u001b[0m\u001b[0;34m)\u001b[0m\u001b[0;34m\u001b[0m\u001b[0;34m\u001b[0m\u001b[0m\n\u001b[1;32m      3\u001b[0m \u001b[0;34m\u001b[0m\u001b[0m\n\u001b[1;32m      4\u001b[0m \u001b[0mtest_iter\u001b[0m \u001b[0;34m=\u001b[0m \u001b[0mmx\u001b[0m\u001b[0;34m.\u001b[0m\u001b[0mio\u001b[0m\u001b[0;34m.\u001b[0m\u001b[0mNDArrayIter\u001b[0m\u001b[0;34m(\u001b[0m\u001b[0mmnist\u001b[0m\u001b[0;34m[\u001b[0m\u001b[0;34m'test_data'\u001b[0m\u001b[0;34m,\u001b[0m \u001b[0mmnist\u001b[0m\u001b[0;34m[\u001b[0m\u001b[0;34m'test_label'\u001b[0m\u001b[0;34m]\u001b[0m\u001b[0;34m,\u001b[0m \u001b[0mbatch_size\u001b[0m\u001b[0;34m]\u001b[0m\u001b[0;34m)\u001b[0m\u001b[0;34m\u001b[0m\u001b[0;34m\u001b[0m\u001b[0m\n\u001b[1;32m      5\u001b[0m \u001b[0macc\u001b[0m \u001b[0;34m=\u001b[0m \u001b[0mmx\u001b[0m\u001b[0;34m.\u001b[0m\u001b[0mmetric\u001b[0m\u001b[0;34m.\u001b[0m\u001b[0mAccuracy\u001b[0m\u001b[0;34m(\u001b[0m\u001b[0;34m)\u001b[0m\u001b[0;34m\u001b[0m\u001b[0;34m\u001b[0m\u001b[0m\n",
      "\u001b[0;31mKeyError\u001b[0m: ('test_data', None, 100)"
     ]
    }
   ],
   "source": [
    "test_iter = mx.io.NDArrayIter(mnist['test_data', None, batch_size])\n",
    "prob = lenet_model.predict(test_iter)\n",
    "\n",
    "test_iter = mx.io.NDArrayIter(mnist['test_data', mnist['test_label'], batch_size])\n",
    "acc = mx.metric.Accuracy()\n",
    "lenet_model.score(test_iter, acc)\n",
    "print(acc)\n",
    "assert acc.get()[1] > 0.98"
   ]
  }
 ],
 "metadata": {
  "kernelspec": {
   "display_name": "mnist-mxnet",
   "language": "python",
   "name": "mnist-mxnet"
  },
  "language_info": {
   "codemirror_mode": {
    "name": "ipython",
    "version": 3
   },
   "file_extension": ".py",
   "mimetype": "text/x-python",
   "name": "python",
   "nbconvert_exporter": "python",
   "pygments_lexer": "ipython3",
   "version": "3.6.8"
  }
 },
 "nbformat": 4,
 "nbformat_minor": 2
}
